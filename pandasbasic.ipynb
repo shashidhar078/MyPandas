{
  "nbformat": 4,
  "nbformat_minor": 0,
  "metadata": {
    "colab": {
      "provenance": [],
      "authorship_tag": "ABX9TyNEoMtnzSRzqvqfrrPA4C0F",
      "include_colab_link": true
    },
    "kernelspec": {
      "name": "python3",
      "display_name": "Python 3"
    },
    "language_info": {
      "name": "python"
    }
  },
  "cells": [
    {
      "cell_type": "markdown",
      "metadata": {
        "id": "view-in-github",
        "colab_type": "text"
      },
      "source": [
        "<a href=\"https://colab.research.google.com/github/shashidhar078/MyPandas/blob/main/pandasbasic.ipynb\" target=\"_parent\"><img src=\"https://colab.research.google.com/assets/colab-badge.svg\" alt=\"Open In Colab\"/></a>"
      ]
    },
    {
      "cell_type": "code",
      "execution_count": null,
      "metadata": {
        "id": "auO2Y1TqVvzu"
      },
      "outputs": [],
      "source": [
        "import pandas as pd"
      ]
    },
    {
      "cell_type": "code",
      "source": [
        "d = pd.read_csv(\"/content/FirstGenPokemon.csv\")\n",
        "df = pd.DataFrame(d)\n",
        "# print(df)\n",
        "print(df.head())"
      ],
      "metadata": {
        "colab": {
          "base_uri": "https://localhost:8080/"
        },
        "id": "CWnZyh4KeELj",
        "outputId": "8cebf7be-b1c1-4232-acf6-8581844e4a00"
      },
      "execution_count": null,
      "outputs": [
        {
          "output_type": "stream",
          "name": "stdout",
          "text": [
            "   Number        Name   Types  Type1   Type2   Height(m)   Weight(kg)  \\\n",
            "0       1   Bulbasaur       2  grass  poison         0.7          6.9   \n",
            "1       2     Ivysaur       2  grass  poison         1.0         13.0   \n",
            "2       3    Venusaur       2  grass  poison         2.0        100.0   \n",
            "3       4  Charmander       1   fire     NaN         0.6          8.5   \n",
            "4       5  Charmeleon       1   fire     NaN         1.1         19.0   \n",
            "\n",
            "    Male_Pct   Female_Pct   Capt_Rate  ...   Poison_Dmg  Ground_Dmg  \\\n",
            "0       87.5         12.5          45  ...          1.0         1.0   \n",
            "1       87.5         12.5          45  ...          1.0         1.0   \n",
            "2       87.5         12.5          45  ...          1.0         1.0   \n",
            "3       87.5         12.5          45  ...          1.0         2.0   \n",
            "4       87.5         12.5          45  ...          1.0         2.0   \n",
            "\n",
            "    Flying_Dmg   Psychic_Dmg   Bug_Dmg   Rock_Dmg   Ghost_Dmg   Dragon_Dmg  \\\n",
            "0          2.0           2.0       4.0        1.0           1            1   \n",
            "1          2.0           2.0       4.0        1.0           1            1   \n",
            "2          2.0           2.0       4.0        1.0           1            1   \n",
            "3          1.0           1.0       0.5        2.0           1            1   \n",
            "4          1.0           1.0       0.5        2.0           1            1   \n",
            "\n",
            "    Evolutions  Legendary  \n",
            "0            2          0  \n",
            "1            2          0  \n",
            "2            2          0  \n",
            "3            2          0  \n",
            "4            2          0  \n",
            "\n",
            "[5 rows x 35 columns]\n"
          ]
        }
      ]
    },
    {
      "cell_type": "markdown",
      "source": [
        "# **indexing and slicing**"
      ],
      "metadata": {
        "id": "U2NAIxa3fV0F"
      }
    },
    {
      "cell_type": "code",
      "source": [
        "print(df.head())\n",
        "#tail\n",
        "print(df.tail())\n",
        "print(df.describe())\n",
        "print(df.shape)\n",
        "print(df.dtypes)\n",
        "print(df[1:9])\n",
        "print(df.iloc[0:9,5])\n",
        "print(df.iloc[:,[2,3,4]])\n",
        "print(df.loc[0:4,\" Name\":\" Male_Pct\"])"
      ],
      "metadata": {
        "colab": {
          "base_uri": "https://localhost:8080/"
        },
        "id": "mAmX9vLvfa7q",
        "outputId": "e62cd4e5-c63a-479e-a393-0faa5c945b29"
      },
      "execution_count": 41,
      "outputs": [
        {
          "output_type": "stream",
          "name": "stdout",
          "text": [
            "         Name  Types  Type1   Type2  Height(m)  Weight(kg)  Male_Pct\n",
            "0   Bulbasaur      2  grass  poison        0.7         6.9      87.5\n",
            "1     Ivysaur      2  grass  poison        1.0        13.0      87.5\n",
            "2    Venusaur      2  grass  poison        2.0       100.0      87.5\n",
            "3  Charmander      1   fire     NaN        0.6         8.5      87.5\n",
            "4  Charmeleon      1   fire     NaN        1.1        19.0      87.5\n"
          ]
        }
      ]
    },
    {
      "cell_type": "code",
      "source": [
        "print(pandas.__version__)"
      ],
      "metadata": {
        "colab": {
          "base_uri": "https://localhost:8080/"
        },
        "id": "MmzKIKx8WHoI",
        "outputId": "897ed5b5-93f8-4134-9c82-cbf2bb44ce90"
      },
      "execution_count": null,
      "outputs": [
        {
          "output_type": "stream",
          "name": "stdout",
          "text": [
            "2.2.2\n"
          ]
        }
      ]
    },
    {
      "cell_type": "code",
      "source": [],
      "metadata": {
        "id": "SZvHyq8vWLbo"
      },
      "execution_count": null,
      "outputs": []
    },
    {
      "cell_type": "markdown",
      "source": [
        "#**WEEK 2 working with pandas and excersing with iris dataset**"
      ],
      "metadata": {
        "id": "d66Epq5f_yRb"
      }
    },
    {
      "cell_type": "code",
      "source": [
        "import sklearn as sk\n",
        "import pandas as pd\n",
        "from sklearn.datasets import load_iris\n",
        "\n",
        "iris=load_iris()\n",
        "df=pd.DataFrame(iris.data)\n",
        "print(df)\n",
        "print(df.shape)\n",
        "print(type(df))\n",
        "print(df.dtypes)\n",
        "print(df.head(3))"
      ],
      "metadata": {
        "colab": {
          "base_uri": "https://localhost:8080/"
        },
        "id": "SleG8hPQAA7M",
        "outputId": "96bad145-a24a-4e12-c8d4-97bf66b57a6b"
      },
      "execution_count": null,
      "outputs": [
        {
          "output_type": "stream",
          "name": "stdout",
          "text": [
            "       0    1    2    3\n",
            "0    5.1  3.5  1.4  0.2\n",
            "1    4.9  3.0  1.4  0.2\n",
            "2    4.7  3.2  1.3  0.2\n",
            "3    4.6  3.1  1.5  0.2\n",
            "4    5.0  3.6  1.4  0.2\n",
            "..   ...  ...  ...  ...\n",
            "145  6.7  3.0  5.2  2.3\n",
            "146  6.3  2.5  5.0  1.9\n",
            "147  6.5  3.0  5.2  2.0\n",
            "148  6.2  3.4  5.4  2.3\n",
            "149  5.9  3.0  5.1  1.8\n",
            "\n",
            "[150 rows x 4 columns]\n",
            "(150, 4)\n",
            "<class 'pandas.core.frame.DataFrame'>\n",
            "0    float64\n",
            "1    float64\n",
            "2    float64\n",
            "3    float64\n",
            "dtype: object\n",
            "     0    1    2    3\n",
            "0  5.1  3.5  1.4  0.2\n",
            "1  4.9  3.0  1.4  0.2\n",
            "2  4.7  3.2  1.3  0.2\n"
          ]
        }
      ]
    }
  ]
}